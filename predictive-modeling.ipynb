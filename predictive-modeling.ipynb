{
 "cells": [
  {
   "cell_type": "code",
   "execution_count": null,
   "id": "983e919c-f24a-4aef-bb22-799c66a49b2c",
   "metadata": {},
   "outputs": [
    {
     "name": "stdout",
     "output_type": "stream",
     "text": [
      "Loaded Dataset\n"
     ]
    }
   ],
   "source": [
    "import pandas as pd\n",
    "\n",
    "bim_file = \"dataset/dog10k.snps.plink.bim\"\n",
    "gff_file = \"dataset/GCF.gff\"\n",
    "\n",
    "bim_cols = [\"chrom\", \"snp_id\", \"gen_dist\", \"pos\", \"allele1\", \"allele2\"]\n",
    "bim_df = pd.read_csv(bim_file, sep=r\"\\s+\", names=bim_cols)\n",
    "\n",
    "gff_cols = [\"seqid\", \"source\", \"type\", \"start\", \"end\", \"score\", \"strand\", \"phase\", \"attributes\"]\n",
    "gff_genes = pd.read_csv(\n",
    "    gff_file,\n",
    "    sep=\"\\t\",\n",
    "    comment=\"#\",\n",
    "    names=gff_cols,\n",
    "    usecols=[\"seqid\", \"type\", \"start\", \"end\", \"attributes\"]\n",
    ")\n",
    "gff_genes = gff_genes[gff_genes[\"type\"].isin([\"gene\", \"pseudogene\"])].copy()"
   ]
  },
  {
   "cell_type": "code",
   "execution_count": 2,
   "id": "4440ef92-432e-490a-a6bf-4ed1031d31b0",
   "metadata": {},
   "outputs": [
    {
     "ename": "KeyboardInterrupt",
     "evalue": "",
     "output_type": "error",
     "traceback": [
      "\u001b[31m---------------------------------------------------------------------------\u001b[39m",
      "\u001b[31mKeyboardInterrupt\u001b[39m                         Traceback (most recent call last)",
      "\u001b[32m~\\AppData\\Local\\Temp\\ipykernel_23372\\1517630856.py\u001b[39m in \u001b[36m?\u001b[39m\u001b[34m()\u001b[39m\n\u001b[32m     14\u001b[39m     \u001b[38;5;28;01melse\u001b[39;00m:\n\u001b[32m     15\u001b[39m         \u001b[38;5;28;01mreturn\u001b[39;00m \u001b[38;5;28;01mNone\u001b[39;00m\n\u001b[32m     16\u001b[39m \n\u001b[32m     17\u001b[39m gff_genes[\u001b[33m\"gene_name\"\u001b[39m] = gff_genes[\u001b[33m\"attributes\"\u001b[39m].apply(extract_gene_name)\n\u001b[32m---> \u001b[39m\u001b[32m18\u001b[39m bim_df[\u001b[33m\"gene\"\u001b[39m] = bim_df.apply(map_snp_to_gene, axis=\u001b[32m1\u001b[39m, gff_genes=gff_genes)\n",
      "\u001b[32m~\\AppData\\Local\\Programs\\Python\\Python313\\Lib\\site-packages\\pandas\\core\\frame.py\u001b[39m in \u001b[36m?\u001b[39m\u001b[34m(self, func, axis, raw, result_type, args, by_row, engine, engine_kwargs, **kwargs)\u001b[39m\n\u001b[32m  10377\u001b[39m             engine_kwargs=engine_kwargs,\n\u001b[32m  10378\u001b[39m             args=args,\n\u001b[32m  10379\u001b[39m             kwargs=kwargs,\n\u001b[32m  10380\u001b[39m         )\n\u001b[32m> \u001b[39m\u001b[32m10381\u001b[39m         \u001b[38;5;28;01mreturn\u001b[39;00m op.apply().__finalize__(self, method=\u001b[33m\"apply\"\u001b[39m)\n",
      "\u001b[32m~\\AppData\\Local\\Programs\\Python\\Python313\\Lib\\site-packages\\pandas\\core\\apply.py\u001b[39m in \u001b[36m?\u001b[39m\u001b[34m(self)\u001b[39m\n\u001b[32m    912\u001b[39m         \u001b[38;5;66;03m# raw\u001b[39;00m\n\u001b[32m    913\u001b[39m         \u001b[38;5;28;01melif\u001b[39;00m self.raw:\n\u001b[32m    914\u001b[39m             \u001b[38;5;28;01mreturn\u001b[39;00m self.apply_raw(engine=self.engine, engine_kwargs=self.engine_kwargs)\n\u001b[32m    915\u001b[39m \n\u001b[32m--> \u001b[39m\u001b[32m916\u001b[39m         \u001b[38;5;28;01mreturn\u001b[39;00m self.apply_standard()\n",
      "\u001b[32m~\\AppData\\Local\\Programs\\Python\\Python313\\Lib\\site-packages\\pandas\\core\\apply.py\u001b[39m in \u001b[36m?\u001b[39m\u001b[34m(self)\u001b[39m\n\u001b[32m   1061\u001b[39m     \u001b[38;5;28;01mdef\u001b[39;00m apply_standard(self):\n\u001b[32m   1062\u001b[39m         \u001b[38;5;28;01mif\u001b[39;00m self.engine == \u001b[33m\"python\"\u001b[39m:\n\u001b[32m-> \u001b[39m\u001b[32m1063\u001b[39m             results, res_index = self.apply_series_generator()\n\u001b[32m   1064\u001b[39m         \u001b[38;5;28;01melse\u001b[39;00m:\n\u001b[32m   1065\u001b[39m             results, res_index = self.apply_series_numba()\n\u001b[32m   1066\u001b[39m \n",
      "\u001b[32m~\\AppData\\Local\\Programs\\Python\\Python313\\Lib\\site-packages\\pandas\\core\\apply.py\u001b[39m in \u001b[36m?\u001b[39m\u001b[34m(self)\u001b[39m\n\u001b[32m   1077\u001b[39m \n\u001b[32m   1078\u001b[39m         \u001b[38;5;28;01mwith\u001b[39;00m option_context(\u001b[33m\"mode.chained_assignment\"\u001b[39m, \u001b[38;5;28;01mNone\u001b[39;00m):\n\u001b[32m   1079\u001b[39m             \u001b[38;5;28;01mfor\u001b[39;00m i, v \u001b[38;5;28;01min\u001b[39;00m enumerate(series_gen):\n\u001b[32m   1080\u001b[39m                 \u001b[38;5;66;03m# ignore SettingWithCopy here in case the user mutates\u001b[39;00m\n\u001b[32m-> \u001b[39m\u001b[32m1081\u001b[39m                 results[i] = self.func(v, *self.args, **self.kwargs)\n\u001b[32m   1082\u001b[39m                 \u001b[38;5;28;01mif\u001b[39;00m isinstance(results[i], ABCSeries):\n\u001b[32m   1083\u001b[39m                     \u001b[38;5;66;03m# If we have a view on v, we need to make a copy because\u001b[39;00m\n\u001b[32m   1084\u001b[39m                     \u001b[38;5;66;03m#  series_generator will swap out the underlying data\u001b[39;00m\n",
      "\u001b[32m~\\AppData\\Local\\Temp\\ipykernel_23372\\1517630856.py\u001b[39m in \u001b[36m?\u001b[39m\u001b[34m(row, gff_genes)\u001b[39m\n\u001b[32m      7\u001b[39m \u001b[38;5;28;01mdef\u001b[39;00m map_snp_to_gene(row, gff_genes):\n\u001b[32m      8\u001b[39m     chrom = str(row[\u001b[33m\"chrom\"\u001b[39m])\n\u001b[32m      9\u001b[39m     pos = row[\u001b[33m\"pos\"\u001b[39m]\n\u001b[32m---> \u001b[39m\u001b[32m10\u001b[39m     genes_on_chrom = gff_genes[gff_genes[\u001b[33m\"seqid\"\u001b[39m] == chrom]\n\u001b[32m     11\u001b[39m     hits = genes_on_chrom[(genes_on_chrom[\u001b[33m\"start\"\u001b[39m] <= pos) & (genes_on_chrom[\u001b[33m\"end\"\u001b[39m] >= pos)]\n\u001b[32m     12\u001b[39m     \u001b[38;5;28;01mif\u001b[39;00m \u001b[38;5;28;01mnot\u001b[39;00m hits.empty:\n\u001b[32m     13\u001b[39m         \u001b[38;5;28;01mreturn\u001b[39;00m \u001b[33m\";\"\u001b[39m.join(hits[\u001b[33m\"gene_name\"\u001b[39m].tolist())\n",
      "\u001b[32m~\\AppData\\Local\\Programs\\Python\\Python313\\Lib\\site-packages\\pandas\\core\\frame.py\u001b[39m in \u001b[36m?\u001b[39m\u001b[34m(self, key)\u001b[39m\n\u001b[32m   4094\u001b[39m             \u001b[38;5;28;01mreturn\u001b[39;00m self.where(key)\n\u001b[32m   4095\u001b[39m \n\u001b[32m   4096\u001b[39m         \u001b[38;5;66;03m# Do we have a (boolean) 1d indexer?\u001b[39;00m\n\u001b[32m   4097\u001b[39m         \u001b[38;5;28;01mif\u001b[39;00m com.is_bool_indexer(key):\n\u001b[32m-> \u001b[39m\u001b[32m4098\u001b[39m             \u001b[38;5;28;01mreturn\u001b[39;00m self._getitem_bool_array(key)\n\u001b[32m   4099\u001b[39m \n\u001b[32m   4100\u001b[39m         \u001b[38;5;66;03m# We are left with two options: a single key, and a collection of keys,\u001b[39;00m\n\u001b[32m   4101\u001b[39m         \u001b[38;5;66;03m# We interpret tuples as collections only for non-MultiIndex\u001b[39;00m\n",
      "\u001b[32m~\\AppData\\Local\\Programs\\Python\\Python313\\Lib\\site-packages\\pandas\\core\\frame.py\u001b[39m in \u001b[36m?\u001b[39m\u001b[34m(self, key)\u001b[39m\n\u001b[32m   4155\u001b[39m \n\u001b[32m   4156\u001b[39m         \u001b[38;5;28;01mif\u001b[39;00m key.all():\n\u001b[32m   4157\u001b[39m             \u001b[38;5;28;01mreturn\u001b[39;00m self.copy(deep=\u001b[38;5;28;01mNone\u001b[39;00m)\n\u001b[32m   4158\u001b[39m \n\u001b[32m-> \u001b[39m\u001b[32m4159\u001b[39m         indexer = key.nonzero()[\u001b[32m0\u001b[39m]\n\u001b[32m   4160\u001b[39m         \u001b[38;5;28;01mreturn\u001b[39;00m self._take_with_is_copy(indexer, axis=\u001b[32m0\u001b[39m)\n",
      "\u001b[31mKeyboardInterrupt\u001b[39m: "
     ]
    }
   ],
   "source": [
    "def extract_gene_name(attr):\n",
    "    for key in [\"gene\", \"Name\"]:\n",
    "        if f\"{key}=\" in attr:\n",
    "            return attr.split(f\"{key}=\")[1].split(\";\")[0]\n",
    "    return None\n",
    "\n",
    "def map_snp_to_gene(row, gff_genes):\n",
    "    chrom = str(row[\"chrom\"])\n",
    "    pos = row[\"pos\"]\n",
    "    genes_on_chrom = gff_genes[gff_genes[\"seqid\"] == chrom]\n",
    "    hits = genes_on_chrom[(genes_on_chrom[\"start\"] <= pos) & (genes_on_chrom[\"end\"] >= pos)]\n",
    "    if not hits.empty:\n",
    "        return \";\".join(hits[\"gene_name\"].tolist())\n",
    "    else:\n",
    "        return None\n",
    "\n",
    "gff_genes[\"gene_name\"] = gff_genes[\"attributes\"].apply(extract_gene_name)\n",
    "bim_df[\"gene\"] = bim_df.apply(map_snp_to_gene, axis=1, gff_genes=gff_genes)"
   ]
  },
  {
   "cell_type": "code",
   "execution_count": null,
   "id": "6620612a-9924-47ea-9196-ac92f23f934f",
   "metadata": {},
   "outputs": [],
   "source": [
    "bim_df.to_csv(\"snp_to_gene_mapping.csv\", index=False)"
   ]
  }
 ],
 "metadata": {
  "kernelspec": {
   "display_name": "Python 3 (ipykernel)",
   "language": "python",
   "name": "python3"
  },
  "language_info": {
   "codemirror_mode": {
    "name": "ipython",
    "version": 3
   },
   "file_extension": ".py",
   "mimetype": "text/x-python",
   "name": "python",
   "nbconvert_exporter": "python",
   "pygments_lexer": "ipython3",
   "version": "3.13.5"
  }
 },
 "nbformat": 4,
 "nbformat_minor": 5
}
